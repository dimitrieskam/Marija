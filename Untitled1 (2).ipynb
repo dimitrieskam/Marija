{
 "cells": [
  {
   "cell_type": "code",
   "execution_count": 319,
   "id": "b11a7468-ab0d-4c6d-885e-962c068c72b2",
   "metadata": {},
   "outputs": [
    {
     "name": "stderr",
     "output_type": "stream",
     "text": [
      "Downloading...\n",
      "From: https://drive.google.com/uc?id=1boIax8d9Sat6OJzkiIjjpqmtSZKuRYrx\n",
      "To: C:\\Users\\User5452\\ElectricCarData.csv\n",
      "\n",
      "  0%|          | 0.00/8.20k [00:00<?, ?B/s]\n",
      "100%|##########| 8.20k/8.20k [00:00<00:00, 113kB/s]\n"
     ]
    }
   ],
   "source": [
    "!gdown 1boIax8d9Sat6OJzkiIjjpqmtSZKuRYrx"
   ]
  },
  {
   "cell_type": "code",
   "execution_count": 320,
   "id": "fa4448a0-5c75-4c82-a3fa-3e706708dc64",
   "metadata": {},
   "outputs": [
    {
     "name": "stdout",
     "output_type": "stream",
     "text": [
      "Requirement already satisfied: pandas in c:\\python312\\lib\\site-packages (2.1.3)\n",
      "Requirement already satisfied: numpy<2,>=1.26.0 in c:\\python312\\lib\\site-packages (from pandas) (1.26.2)\n",
      "Requirement already satisfied: python-dateutil>=2.8.2 in c:\\python312\\lib\\site-packages (from pandas) (2.8.2)\n",
      "Requirement already satisfied: pytz>=2020.1 in c:\\python312\\lib\\site-packages (from pandas) (2023.3.post1)\n",
      "Requirement already satisfied: tzdata>=2022.1 in c:\\python312\\lib\\site-packages (from pandas) (2023.3)\n",
      "Requirement already satisfied: six>=1.5 in c:\\python312\\lib\\site-packages (from python-dateutil>=2.8.2->pandas) (1.16.0)\n"
     ]
    },
    {
     "name": "stderr",
     "output_type": "stream",
     "text": [
      "\n",
      "[notice] A new release of pip is available: 23.2.1 -> 23.3.1\n",
      "[notice] To update, run: python.exe -m pip install --upgrade pip\n"
     ]
    }
   ],
   "source": [
    "!pip install pandas"
   ]
  },
  {
   "cell_type": "code",
   "execution_count": null,
   "id": "cd185618-e26e-4430-80c6-023a7cb92235",
   "metadata": {},
   "outputs": [],
   "source": [
    "!pip install xgboost"
   ]
  },
  {
   "cell_type": "code",
   "execution_count": null,
   "id": "13b6a1f2-8255-4ba9-9f2f-b9a8f8d99891",
   "metadata": {},
   "outputs": [],
   "source": [
    "import pandas as pd\n",
    "from sklearn.model_selection import train_test_split\n",
    "from sklearn.tree import DecisionTreeRegressor\n",
    "from xgboost import XGBRegressor\n",
    "from sklearn.metrics import mean_absolute_error, mean_squared_error"
   ]
  },
  {
   "cell_type": "code",
   "execution_count": null,
   "id": "d42828eb-0135-4cde-8011-77b9c14b69eb",
   "metadata": {},
   "outputs": [],
   "source": [
    "data = pd.read_csv('ElectricCarData.csv')"
   ]
  },
  {
   "cell_type": "code",
   "execution_count": null,
   "id": "30f4dbc5-3b6c-4fa9-83bf-bedc6f6ad2e3",
   "metadata": {},
   "outputs": [],
   "source": [
    "data.head()"
   ]
  },
  {
   "cell_type": "code",
   "execution_count": null,
   "id": "941d4828-b83b-4129-aabf-c5f9aa6630c7",
   "metadata": {},
   "outputs": [],
   "source": [
    "!pip install scikit-learn"
   ]
  },
  {
   "cell_type": "code",
   "execution_count": null,
   "id": "4a652b5c-d943-4241-b5ec-53f94e0da945",
   "metadata": {},
   "outputs": [],
   "source": [
    "from sklearn.preprocessing import LabelEncoder"
   ]
  },
  {
   "cell_type": "code",
   "execution_count": null,
   "id": "834381e9-fb78-4489-abba-889843531f1f",
   "metadata": {},
   "outputs": [],
   "source": [
    "le = LabelEncoder()\n",
    "data['RapidCharge'] = le.fit_transform(data['RapidCharge'])\n",
    "data['PowerTrain'] = le.fit_transform(data['PowerTrain'])\n",
    "data['PlugType'] = le.fit_transform(data['PlugType'])\n",
    "data['BodyStyle'] = le.fit_transform(data['BodyStyle'])\n",
    "data['Segment'] = le.fit_transform(data['Segment'])\n",
    "data['Brand'] = le.fit_transform(data['Brand'])\n",
    "data['Model'] = le.fit_transform(data['Model'])"
   ]
  },
  {
   "cell_type": "code",
   "execution_count": null,
   "id": "91062756-85ab-4d7b-85c9-b8bcd230e3c8",
   "metadata": {},
   "outputs": [],
   "source": [
    "data['FastCharge_KmH'] = pd.to_numeric(data['FastCharge_KmH'], errors='coerce')\n",
    "data.fillna(data.mean(), inplace=True)"
   ]
  },
  {
   "cell_type": "code",
   "execution_count": null,
   "id": "c06a313b-44b9-49ff-ad63-80b7eeaed1df",
   "metadata": {},
   "outputs": [],
   "source": [
    "categorical_columns = ['RapidCharge', 'PowerTrain', 'PlugType', 'BodyStyle', 'Segment']\n",
    "data_encoded = pd.get_dummies(data, columns=categorical_columns)"
   ]
  },
  {
   "cell_type": "code",
   "execution_count": null,
   "id": "5402c08d-2304-496c-a815-0cc6afc80ead",
   "metadata": {},
   "outputs": [],
   "source": [
    "data.head()"
   ]
  },
  {
   "cell_type": "code",
   "execution_count": null,
   "id": "25548f8d-7ab4-48e6-a186-612bfb019c76",
   "metadata": {},
   "outputs": [],
   "source": [
    "data.isnull().sum()"
   ]
  },
  {
   "cell_type": "code",
   "execution_count": null,
   "id": "eaad6e5b-8aaf-46b1-950b-6f3918f86f58",
   "metadata": {},
   "outputs": [],
   "source": [
    "X = data_encoded.drop('PriceEuro', axis=1)\n",
    "y = data_encoded['PriceEuro']\n",
    "\n",
    "X_train, X_test, y_train, y_test = train_test_split(X, y, test_size=0.2, random_state=42)"
   ]
  },
  {
   "cell_type": "code",
   "execution_count": null,
   "id": "7e80c393-1a4c-4468-b809-8a78ea563119",
   "metadata": {},
   "outputs": [],
   "source": [
    "dt_model = DecisionTreeRegressor( max_depth=5, min_samples_split=2, max_features=None)\n",
    "dt_model.fit(X_train, y_train)"
   ]
  },
  {
   "cell_type": "code",
   "execution_count": null,
   "id": "00f0dc06-16d3-4698-ad4c-c6dfca8ce828",
   "metadata": {},
   "outputs": [],
   "source": [
    "dt_pred = dt_model.predict(X_test)\n",
    "dt_pred"
   ]
  },
  {
   "cell_type": "code",
   "execution_count": null,
   "id": "5ea846aa-e440-4331-af51-ac57b87e5238",
   "metadata": {},
   "outputs": [],
   "source": [
    "\n",
    "print(\"DecisionTreeRegressor MAE:\", dt_mae)\n",
    "\n",
    "dt_mse = mean_squared_error(y_test, dt_pred)\n",
    "print(\"DecisionTreeRegressor MSE:\", dt_mse)\n",
    "\n",
    "dt_r2 = r2_score(y_test, dt_pred)\n",
    "print(\"DecisionTreeRegressor R-squared:\", dt_r2)"
   ]
  },
  {
   "cell_type": "code",
   "execution_count": null,
   "id": "fd8e4868-8609-46ad-bc4a-e8c145981602",
   "metadata": {},
   "outputs": [],
   "source": [
    "from xgboost import XGBRegressor\n",
    "xgb_model = XGBRegressor(\n",
    "    learning_rate=0.01,\n",
    "    n_estimators=500,  # Increase the number of estimators\n",
    "    max_depth=3,\n",
    "    subsample=0.8,\n",
    "    colsample_bytree=0.8,\n",
    "    objective='reg:squarederror'\n",
    ")\n",
    "\n",
    "xgb_model.fit(X_train, y_train)"
   ]
  },
  {
   "cell_type": "code",
   "execution_count": null,
   "id": "750c1d67-21ca-41a2-89d4-e6ccb9f7514b",
   "metadata": {},
   "outputs": [],
   "source": [
    "xgb_pred = xgb_model.predict(X_test)\n",
    "xgb_pred"
   ]
  },
  {
   "cell_type": "code",
   "execution_count": null,
   "id": "eb2cf009-9a9d-494d-b2d2-178c9ee33d4f",
   "metadata": {},
   "outputs": [],
   "source": [
    "from sklearn.metrics import mean_absolute_error, mean_squared_error, r2_score\n",
    "\n",
    "xgb_mae = mean_absolute_error(y_test, xgb_pred)\n",
    "print(\"XGBRegressor MAE:\", xgb_mae)\n",
    "\n",
    "\n",
    "xgb_mse = mean_squared_error(y_test, xgb_pred)\n",
    "print(\"XGBRegressor MSE:\", xgb_mse)\n",
    "\n",
    "xgb_r2 = r2_score(y_test, xgb_pred)\n",
    "print(\"XGBRegressor R-squared:\", xgb_r2)"
   ]
  },
  {
   "cell_type": "code",
   "execution_count": null,
   "id": "b1d5ab2b-726f-4ea7-884a-6aa131cd2122",
   "metadata": {},
   "outputs": [],
   "source": [
    "dt_mae = mean_absolute_error(y_test, dt_pred)\n",
    "dt_mse = mean_squared_error(y_test, dt_pred)\n",
    "dt_r2 = r2_score(y_test, dt_pred)\n",
    "\n",
    "print(\"DecisionTreeRegressor Metrics:\")\n",
    "print(\"MAE:\", dt_mae)\n",
    "print(\"MSE:\", dt_mse)\n",
    "print(\"R-squared:\", dt_r2)\n",
    "\n",
    "\n",
    "xgb_mae = mean_absolute_error(y_test, xgb_pred)\n",
    "xgb_mse = mean_squared_error(y_test, xgb_pred)\n",
    "xgb_r2 = r2_score(y_test, xgb_pred)\n",
    "\n",
    "print(\"\\nXGBRegressor Metrics:\")\n",
    "print(\"MAE:\", xgb_mae)\n",
    "print(\"MSE:\", xgb_mse)\n",
    "print(\"R-squared:\", xgb_r2)"
   ]
  },
  {
   "cell_type": "code",
   "execution_count": null,
   "id": "f277ff7a-3abf-431c-8860-b0d2a8e6666f",
   "metadata": {},
   "outputs": [],
   "source": []
  },
  {
   "cell_type": "code",
   "execution_count": null,
   "id": "67284eed-81e8-4a56-8362-240be56078c2",
   "metadata": {},
   "outputs": [],
   "source": []
  }
 ],
 "metadata": {
  "kernelspec": {
   "display_name": "myenv",
   "language": "python",
   "name": "myenv"
  },
  "language_info": {
   "codemirror_mode": {
    "name": "ipython",
    "version": 3
   },
   "file_extension": ".py",
   "mimetype": "text/x-python",
   "name": "python",
   "nbconvert_exporter": "python",
   "pygments_lexer": "ipython3",
   "version": "3.12.0"
  }
 },
 "nbformat": 4,
 "nbformat_minor": 5
}
